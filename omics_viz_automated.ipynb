{
 "cells": [
  {
   "cell_type": "code",
   "execution_count": 196,
   "metadata": {},
   "outputs": [],
   "source": [
    "import os\n",
    "import sys\n",
    "import pandas as pd\n",
    "from py2cytoscape import cyrest\n",
    "from IPython.display import Image\n",
    "%matplotlib inline\n",
    "from py2cytoscape.cyrest.base import api"
   ]
  },
  {
   "cell_type": "markdown",
   "metadata": {},
   "source": [
    "### check cytoscape connection and setup"
   ]
  },
  {
   "cell_type": "code",
   "execution_count": 197,
   "metadata": {},
   "outputs": [
    {
     "name": "stdout",
     "output_type": "stream",
     "text": [
      "apiVersion v1\n",
      "cytoscapeVersion 3.7.2\n"
     ]
    }
   ],
   "source": [
    "cytoscape=cyrest.cyclient()\n",
    "cytoscape.version()"
   ]
  },
  {
   "cell_type": "code",
   "execution_count": 198,
   "metadata": {},
   "outputs": [],
   "source": [
    "cytoscape.session.new()"
   ]
  },
  {
   "cell_type": "code",
   "execution_count": 199,
   "metadata": {},
   "outputs": [
    {
     "data": {
      "text/plain": [
       "{'views': []}"
      ]
     },
     "execution_count": 199,
     "metadata": {},
     "output_type": "execute_result"
    }
   ],
   "source": [
    "cytoscape.vizmap.apply(styles='default')"
   ]
  },
  {
   "cell_type": "markdown",
   "metadata": {},
   "source": [
    "## filter data"
   ]
  },
  {
   "cell_type": "markdown",
   "metadata": {},
   "source": [
    "#### filter expression dataset"
   ]
  },
  {
   "cell_type": "code",
   "execution_count": 200,
   "metadata": {
    "scrolled": true
   },
   "outputs": [
    {
     "name": "stdout",
     "output_type": "stream",
     "text": [
      "(7140, 11)\n",
      "(467, 11)\n"
     ]
    }
   ],
   "source": [
    "times = pd.read_csv('./data/Bendjilali2017G3.tsv',sep='\\t')\n",
    "print(times.shape)\n",
    "times = times[\n",
    "    (times['autocor.adj']<0.05) &\n",
    "    (times['DESeq.adj']<0.05)\n",
    "]\n",
    "print(times.shape)\n",
    "times.to_csv('./data/filtered_exp.tsv',sep='\\t',index=False)"
   ]
  },
  {
   "cell_type": "markdown",
   "metadata": {},
   "source": [
    "#### select nodes with significant expression"
   ]
  },
  {
   "cell_type": "code",
   "execution_count": 201,
   "metadata": {},
   "outputs": [
    {
     "name": "stdout",
     "output_type": "stream",
     "text": [
      "(1809, 3)\n",
      "(33, 3)\n"
     ]
    }
   ],
   "source": [
    "network = pd.read_csv('./data/Yu2008Science.tsv',sep='\\t',header=None)\n",
    "print(network.shape)\n",
    "network = network[(network[0].isin(times['gene'])) & (network[1].isin(times['gene']))]\n",
    "print(network.shape)\n",
    "network.to_csv('./data/network_filtered.tsv',index=False,header=False, sep='\\t')"
   ]
  },
  {
   "cell_type": "markdown",
   "metadata": {},
   "source": [
    "## Load data into cytoscape"
   ]
  },
  {
   "cell_type": "markdown",
   "metadata": {},
   "source": [
    "#### load network"
   ]
  },
  {
   "cell_type": "code",
   "execution_count": 202,
   "metadata": {},
   "outputs": [
    {
     "data": {
      "text/plain": [
       "{'networks': [240], 'views': [319]}"
      ]
     },
     "execution_count": 202,
     "metadata": {},
     "output_type": "execute_result"
    }
   ],
   "source": [
    "api(namespace='network',command='import file',\n",
    "    PARAMS ={\n",
    "     \"file\": \"/home/joeri/Documents/coding_projects/cytohack/data/network_filtered.tsv\",\n",
    "    \"indexColumnSourceInteraction\": \"1\",\n",
    "    \"indexColumnTargetInteraction\": \"2\",\n",
    "    \"indexColumnTypeInteraction\": \"3\",\n",
    "    }\n",
    ")"
   ]
  },
  {
   "cell_type": "markdown",
   "metadata": {},
   "source": [
    "#### load time series table into omicsvisualizer"
   ]
  },
  {
   "cell_type": "code",
   "execution_count": 203,
   "metadata": {},
   "outputs": [],
   "source": [
    "api(namespace='ov',command='load',\n",
    "    PARAMS ={\n",
    "     \"file\": \"/home/joeri/Documents/coding_projects/cytohack/data/filtered_exp.tsv\",\n",
    "    \"keyColumnIndex\": \"1\",\n",
    "    \"startLoadRow\":'1',\n",
    "    \"dataTypeList\":\"s,d,d,d,d,d,d,d,d,d,d\",\n",
    "    \"newTableName\":'times',\n",
    "    }\n",
    ")\n"
   ]
  },
  {
   "cell_type": "markdown",
   "metadata": {},
   "source": [
    "#### connect the ov table to the network"
   ]
  },
  {
   "cell_type": "code",
   "execution_count": 204,
   "metadata": {},
   "outputs": [],
   "source": [
    "api(namespace='ov',command='connect',\n",
    "    PARAMS ={\n",
    "    'mappingColNet':'shared name',\n",
    "    'mappingColTable':'gene',\n",
    "    }\n",
    ")"
   ]
  },
  {
   "cell_type": "markdown",
   "metadata": {},
   "source": [
    "### create donut visualization of time series expression data"
   ]
  },
  {
   "cell_type": "code",
   "execution_count": 205,
   "metadata": {},
   "outputs": [],
   "source": [
    "api(namespace='ov',command='viz apply outer continuous',\n",
    "    PARAMS ={\n",
    "    \"attributes\":'min0,min5,min10,min30,min60,min120,min180,min240',\n",
    "    \"transpose\":'true',\n",
    "    \"rangeMax\":'4000',\n",
    "    \"rangeMid\":'2000',\n",
    "    \"rangeMin\":'0',\n",
    "    }\n",
    ")\n"
   ]
  },
  {
   "cell_type": "code",
   "execution_count": null,
   "metadata": {},
   "outputs": [],
   "source": []
  },
  {
   "cell_type": "code",
   "execution_count": null,
   "metadata": {},
   "outputs": [],
   "source": []
  },
  {
   "cell_type": "code",
   "execution_count": null,
   "metadata": {},
   "outputs": [],
   "source": []
  },
  {
   "cell_type": "markdown",
   "metadata": {},
   "source": [
    "### NOT USED: filter the omics visualizer table\n",
    "did the filtering in python, but kept this as a reference"
   ]
  },
  {
   "cell_type": "markdown",
   "metadata": {},
   "source": [
    "**filter for autocor.adj**"
   ]
  },
  {
   "cell_type": "code",
   "execution_count": 129,
   "metadata": {},
   "outputs": [],
   "source": [
    "api(namespace='ov',command='filter',\n",
    "   PARAMS={\n",
    "       'filter':\"(autocor.adj,LOWER,0.05)\",\n",
    "       'tableName':'times'\n",
    "   })"
   ]
  },
  {
   "cell_type": "markdown",
   "metadata": {},
   "source": [
    "**filter for DESeq.adj**"
   ]
  },
  {
   "cell_type": "code",
   "execution_count": 130,
   "metadata": {},
   "outputs": [],
   "source": [
    "api(namespace='ov',command='filter',\n",
    "   PARAMS={\n",
    "       'filter':\"(DESeq.adj,LOWER,0.05)\",\n",
    "       'tableName':'times'\n",
    "   })"
   ]
  },
  {
   "cell_type": "markdown",
   "metadata": {},
   "source": []
  }
 ],
 "metadata": {
  "kernelspec": {
   "display_name": "Python 3",
   "language": "python",
   "name": "python3"
  },
  "language_info": {
   "codemirror_mode": {
    "name": "ipython",
    "version": 3
   },
   "file_extension": ".py",
   "mimetype": "text/x-python",
   "name": "python",
   "nbconvert_exporter": "python",
   "pygments_lexer": "ipython3",
   "version": "3.7.3"
  }
 },
 "nbformat": 4,
 "nbformat_minor": 2
}
